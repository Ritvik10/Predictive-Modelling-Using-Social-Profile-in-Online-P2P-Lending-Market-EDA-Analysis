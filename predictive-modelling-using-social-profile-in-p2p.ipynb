{
 "cells": [
  {
   "cell_type": "code",
   "execution_count": 1,
   "id": "e74bf4f7",
   "metadata": {
    "_cell_guid": "b1076dfc-b9ad-4769-8c92-a6c4dae69d19",
    "_uuid": "8f2839f25d086af736a60e9eeb907d3b93b6e0e5",
    "execution": {
     "iopub.execute_input": "2022-07-12T05:07:02.907030Z",
     "iopub.status.busy": "2022-07-12T05:07:02.905984Z",
     "iopub.status.idle": "2022-07-12T05:07:02.930853Z",
     "shell.execute_reply": "2022-07-12T05:07:02.929941Z"
    },
    "papermill": {
     "duration": 0.046342,
     "end_time": "2022-07-12T05:07:02.933769",
     "exception": false,
     "start_time": "2022-07-12T05:07:02.887427",
     "status": "completed"
    },
    "tags": []
   },
   "outputs": [
    {
     "name": "stdout",
     "output_type": "stream",
     "text": [
      "/kaggle/input/prosper-loan/prosperLoanData.csv\n"
     ]
    }
   ],
   "source": [
    "# This Python 3 environment comes with many helpful analytics libraries installed\n",
    "# It is defined by the kaggle/python Docker image: https://github.com/kaggle/docker-python\n",
    "# For example, here's several helpful packages to load\n",
    "\n",
    "import numpy as np # linear algebra\n",
    "import pandas as pd # data processing, CSV file I/O (e.g. pd.read_csv)\n",
    "\n",
    "# Input data files are available in the read-only \"../input/\" directory\n",
    "# For example, running this (by clicking run or pressing Shift+Enter) will list all files under the input directory\n",
    "\n",
    "import os\n",
    "for dirname, _, filenames in os.walk('/kaggle/input'):\n",
    "    for filename in filenames:\n",
    "        print(os.path.join(dirname, filename))\n",
    "\n",
    "# You can write up to 20GB to the current directory (/kaggle/working/) that gets preserved as output when you create a version using \"Save & Run All\" \n",
    "# You can also write temporary files to /kaggle/temp/, but they won't be saved outside of the current session"
   ]
  },
  {
   "cell_type": "markdown",
   "id": "bbacf54b",
   "metadata": {
    "papermill": {
     "duration": 0.013842,
     "end_time": "2022-07-12T05:07:02.962965",
     "exception": false,
     "start_time": "2022-07-12T05:07:02.949123",
     "status": "completed"
    },
    "tags": []
   },
   "source": [
    "# **Loading the prosper loan data**\n",
    "​\n",
    "We now know that we are working with a typical CSV file (i.e., the delimiter is ,, etc.). We proceed to loading the data into memory."
   ]
  },
  {
   "cell_type": "code",
   "execution_count": 2,
   "id": "a1e95d8b",
   "metadata": {
    "execution": {
     "iopub.execute_input": "2022-07-12T05:07:02.993218Z",
     "iopub.status.busy": "2022-07-12T05:07:02.992502Z",
     "iopub.status.idle": "2022-07-12T05:07:02.996836Z",
     "shell.execute_reply": "2022-07-12T05:07:02.996003Z"
    },
    "papermill": {
     "duration": 0.022085,
     "end_time": "2022-07-12T05:07:02.999082",
     "exception": false,
     "start_time": "2022-07-12T05:07:02.976997",
     "status": "completed"
    },
    "tags": []
   },
   "outputs": [],
   "source": [
    "# Filtering out the warnings\n",
    "import warnings\n",
    "\n",
    "warnings.filterwarnings('ignore')"
   ]
  },
  {
   "cell_type": "code",
   "execution_count": 3,
   "id": "f1ff21fe",
   "metadata": {
    "execution": {
     "iopub.execute_input": "2022-07-12T05:07:03.032409Z",
     "iopub.status.busy": "2022-07-12T05:07:03.031689Z",
     "iopub.status.idle": "2022-07-12T05:07:04.288905Z",
     "shell.execute_reply": "2022-07-12T05:07:04.287785Z"
    },
    "papermill": {
     "duration": 1.277446,
     "end_time": "2022-07-12T05:07:04.291706",
     "exception": false,
     "start_time": "2022-07-12T05:07:03.014260",
     "status": "completed"
    },
    "tags": []
   },
   "outputs": [],
   "source": [
    "# Importing the required libraries\n",
    "\n",
    "import numpy as np\n",
    "import pandas as pd\n",
    "import seaborn as sns\n",
    "import matplotlib.pyplot as plt\n",
    "%matplotlib inline"
   ]
  },
  {
   "cell_type": "code",
   "execution_count": 4,
   "id": "8555357e",
   "metadata": {
    "execution": {
     "iopub.execute_input": "2022-07-12T05:07:04.321922Z",
     "iopub.status.busy": "2022-07-12T05:07:04.321533Z",
     "iopub.status.idle": "2022-07-12T05:07:07.143874Z",
     "shell.execute_reply": "2022-07-12T05:07:07.142538Z"
    },
    "papermill": {
     "duration": 2.841174,
     "end_time": "2022-07-12T05:07:07.147127",
     "exception": false,
     "start_time": "2022-07-12T05:07:04.305953",
     "status": "completed"
    },
    "tags": []
   },
   "outputs": [],
   "source": [
    "#load dataset\n",
    "# above .csv file is comma delimited\n",
    "df = pd.read_csv('../input/prosper-loan/prosperLoanData.csv')"
   ]
  },
  {
   "cell_type": "code",
   "execution_count": 5,
   "id": "cc406b7b",
   "metadata": {
    "execution": {
     "iopub.execute_input": "2022-07-12T05:07:07.179203Z",
     "iopub.status.busy": "2022-07-12T05:07:07.178085Z",
     "iopub.status.idle": "2022-07-12T05:07:07.223517Z",
     "shell.execute_reply": "2022-07-12T05:07:07.222262Z"
    },
    "papermill": {
     "duration": 0.063764,
     "end_time": "2022-07-12T05:07:07.226019",
     "exception": false,
     "start_time": "2022-07-12T05:07:07.162255",
     "status": "completed"
    },
    "tags": []
   },
   "outputs": [
    {
     "data": {
      "text/html": [
       "<div>\n",
       "<style scoped>\n",
       "    .dataframe tbody tr th:only-of-type {\n",
       "        vertical-align: middle;\n",
       "    }\n",
       "\n",
       "    .dataframe tbody tr th {\n",
       "        vertical-align: top;\n",
       "    }\n",
       "\n",
       "    .dataframe thead th {\n",
       "        text-align: right;\n",
       "    }\n",
       "</style>\n",
       "<table border=\"1\" class=\"dataframe\">\n",
       "  <thead>\n",
       "    <tr style=\"text-align: right;\">\n",
       "      <th></th>\n",
       "      <th>ListingKey</th>\n",
       "      <th>ListingNumber</th>\n",
       "      <th>ListingCreationDate</th>\n",
       "      <th>CreditGrade</th>\n",
       "      <th>Term</th>\n",
       "      <th>LoanStatus</th>\n",
       "      <th>ClosedDate</th>\n",
       "      <th>BorrowerAPR</th>\n",
       "      <th>BorrowerRate</th>\n",
       "      <th>LenderYield</th>\n",
       "      <th>...</th>\n",
       "      <th>LP_ServiceFees</th>\n",
       "      <th>LP_CollectionFees</th>\n",
       "      <th>LP_GrossPrincipalLoss</th>\n",
       "      <th>LP_NetPrincipalLoss</th>\n",
       "      <th>LP_NonPrincipalRecoverypayments</th>\n",
       "      <th>PercentFunded</th>\n",
       "      <th>Recommendations</th>\n",
       "      <th>InvestmentFromFriendsCount</th>\n",
       "      <th>InvestmentFromFriendsAmount</th>\n",
       "      <th>Investors</th>\n",
       "    </tr>\n",
       "  </thead>\n",
       "  <tbody>\n",
       "    <tr>\n",
       "      <th>0</th>\n",
       "      <td>1021339766868145413AB3B</td>\n",
       "      <td>193129</td>\n",
       "      <td>2007-08-26 19:09:29.263000000</td>\n",
       "      <td>C</td>\n",
       "      <td>36</td>\n",
       "      <td>Completed</td>\n",
       "      <td>2009-08-14 00:00:00</td>\n",
       "      <td>0.16516</td>\n",
       "      <td>0.1580</td>\n",
       "      <td>0.1380</td>\n",
       "      <td>...</td>\n",
       "      <td>-133.18</td>\n",
       "      <td>0.0</td>\n",
       "      <td>0.0</td>\n",
       "      <td>0.0</td>\n",
       "      <td>0.0</td>\n",
       "      <td>1.0</td>\n",
       "      <td>0</td>\n",
       "      <td>0</td>\n",
       "      <td>0.0</td>\n",
       "      <td>258</td>\n",
       "    </tr>\n",
       "    <tr>\n",
       "      <th>1</th>\n",
       "      <td>10273602499503308B223C1</td>\n",
       "      <td>1209647</td>\n",
       "      <td>2014-02-27 08:28:07.900000000</td>\n",
       "      <td>NaN</td>\n",
       "      <td>36</td>\n",
       "      <td>Current</td>\n",
       "      <td>NaN</td>\n",
       "      <td>0.12016</td>\n",
       "      <td>0.0920</td>\n",
       "      <td>0.0820</td>\n",
       "      <td>...</td>\n",
       "      <td>0.00</td>\n",
       "      <td>0.0</td>\n",
       "      <td>0.0</td>\n",
       "      <td>0.0</td>\n",
       "      <td>0.0</td>\n",
       "      <td>1.0</td>\n",
       "      <td>0</td>\n",
       "      <td>0</td>\n",
       "      <td>0.0</td>\n",
       "      <td>1</td>\n",
       "    </tr>\n",
       "    <tr>\n",
       "      <th>2</th>\n",
       "      <td>0EE9337825851032864889A</td>\n",
       "      <td>81716</td>\n",
       "      <td>2007-01-05 15:00:47.090000000</td>\n",
       "      <td>HR</td>\n",
       "      <td>36</td>\n",
       "      <td>Completed</td>\n",
       "      <td>2009-12-17 00:00:00</td>\n",
       "      <td>0.28269</td>\n",
       "      <td>0.2750</td>\n",
       "      <td>0.2400</td>\n",
       "      <td>...</td>\n",
       "      <td>-24.20</td>\n",
       "      <td>0.0</td>\n",
       "      <td>0.0</td>\n",
       "      <td>0.0</td>\n",
       "      <td>0.0</td>\n",
       "      <td>1.0</td>\n",
       "      <td>0</td>\n",
       "      <td>0</td>\n",
       "      <td>0.0</td>\n",
       "      <td>41</td>\n",
       "    </tr>\n",
       "    <tr>\n",
       "      <th>3</th>\n",
       "      <td>0EF5356002482715299901A</td>\n",
       "      <td>658116</td>\n",
       "      <td>2012-10-22 11:02:35.010000000</td>\n",
       "      <td>NaN</td>\n",
       "      <td>36</td>\n",
       "      <td>Current</td>\n",
       "      <td>NaN</td>\n",
       "      <td>0.12528</td>\n",
       "      <td>0.0974</td>\n",
       "      <td>0.0874</td>\n",
       "      <td>...</td>\n",
       "      <td>-108.01</td>\n",
       "      <td>0.0</td>\n",
       "      <td>0.0</td>\n",
       "      <td>0.0</td>\n",
       "      <td>0.0</td>\n",
       "      <td>1.0</td>\n",
       "      <td>0</td>\n",
       "      <td>0</td>\n",
       "      <td>0.0</td>\n",
       "      <td>158</td>\n",
       "    </tr>\n",
       "    <tr>\n",
       "      <th>4</th>\n",
       "      <td>0F023589499656230C5E3E2</td>\n",
       "      <td>909464</td>\n",
       "      <td>2013-09-14 18:38:39.097000000</td>\n",
       "      <td>NaN</td>\n",
       "      <td>36</td>\n",
       "      <td>Current</td>\n",
       "      <td>NaN</td>\n",
       "      <td>0.24614</td>\n",
       "      <td>0.2085</td>\n",
       "      <td>0.1985</td>\n",
       "      <td>...</td>\n",
       "      <td>-60.27</td>\n",
       "      <td>0.0</td>\n",
       "      <td>0.0</td>\n",
       "      <td>0.0</td>\n",
       "      <td>0.0</td>\n",
       "      <td>1.0</td>\n",
       "      <td>0</td>\n",
       "      <td>0</td>\n",
       "      <td>0.0</td>\n",
       "      <td>20</td>\n",
       "    </tr>\n",
       "  </tbody>\n",
       "</table>\n",
       "<p>5 rows × 81 columns</p>\n",
       "</div>"
      ],
      "text/plain": [
       "                ListingKey  ListingNumber            ListingCreationDate  \\\n",
       "0  1021339766868145413AB3B         193129  2007-08-26 19:09:29.263000000   \n",
       "1  10273602499503308B223C1        1209647  2014-02-27 08:28:07.900000000   \n",
       "2  0EE9337825851032864889A          81716  2007-01-05 15:00:47.090000000   \n",
       "3  0EF5356002482715299901A         658116  2012-10-22 11:02:35.010000000   \n",
       "4  0F023589499656230C5E3E2         909464  2013-09-14 18:38:39.097000000   \n",
       "\n",
       "  CreditGrade  Term LoanStatus           ClosedDate  BorrowerAPR  \\\n",
       "0           C    36  Completed  2009-08-14 00:00:00      0.16516   \n",
       "1         NaN    36    Current                  NaN      0.12016   \n",
       "2          HR    36  Completed  2009-12-17 00:00:00      0.28269   \n",
       "3         NaN    36    Current                  NaN      0.12528   \n",
       "4         NaN    36    Current                  NaN      0.24614   \n",
       "\n",
       "   BorrowerRate  LenderYield  ...  LP_ServiceFees  LP_CollectionFees  \\\n",
       "0        0.1580       0.1380  ...         -133.18                0.0   \n",
       "1        0.0920       0.0820  ...            0.00                0.0   \n",
       "2        0.2750       0.2400  ...          -24.20                0.0   \n",
       "3        0.0974       0.0874  ...         -108.01                0.0   \n",
       "4        0.2085       0.1985  ...          -60.27                0.0   \n",
       "\n",
       "   LP_GrossPrincipalLoss  LP_NetPrincipalLoss LP_NonPrincipalRecoverypayments  \\\n",
       "0                    0.0                  0.0                             0.0   \n",
       "1                    0.0                  0.0                             0.0   \n",
       "2                    0.0                  0.0                             0.0   \n",
       "3                    0.0                  0.0                             0.0   \n",
       "4                    0.0                  0.0                             0.0   \n",
       "\n",
       "   PercentFunded  Recommendations InvestmentFromFriendsCount  \\\n",
       "0            1.0                0                          0   \n",
       "1            1.0                0                          0   \n",
       "2            1.0                0                          0   \n",
       "3            1.0                0                          0   \n",
       "4            1.0                0                          0   \n",
       "\n",
       "  InvestmentFromFriendsAmount Investors  \n",
       "0                         0.0       258  \n",
       "1                         0.0         1  \n",
       "2                         0.0        41  \n",
       "3                         0.0       158  \n",
       "4                         0.0        20  \n",
       "\n",
       "[5 rows x 81 columns]"
      ]
     },
     "execution_count": 5,
     "metadata": {},
     "output_type": "execute_result"
    }
   ],
   "source": [
    "df.head()"
   ]
  },
  {
   "cell_type": "code",
   "execution_count": 6,
   "id": "77243635",
   "metadata": {
    "execution": {
     "iopub.execute_input": "2022-07-12T05:07:07.257474Z",
     "iopub.status.busy": "2022-07-12T05:07:07.256996Z",
     "iopub.status.idle": "2022-07-12T05:07:07.264134Z",
     "shell.execute_reply": "2022-07-12T05:07:07.262817Z"
    },
    "papermill": {
     "duration": 0.025977,
     "end_time": "2022-07-12T05:07:07.266952",
     "exception": false,
     "start_time": "2022-07-12T05:07:07.240975",
     "status": "completed"
    },
    "tags": []
   },
   "outputs": [
    {
     "data": {
      "text/plain": [
       "(113937, 81)"
      ]
     },
     "execution_count": 6,
     "metadata": {},
     "output_type": "execute_result"
    }
   ],
   "source": [
    "df.shape"
   ]
  },
  {
   "cell_type": "code",
   "execution_count": 7,
   "id": "c9455563",
   "metadata": {
    "execution": {
     "iopub.execute_input": "2022-07-12T05:07:07.299084Z",
     "iopub.status.busy": "2022-07-12T05:07:07.298685Z",
     "iopub.status.idle": "2022-07-12T05:07:07.309858Z",
     "shell.execute_reply": "2022-07-12T05:07:07.308505Z"
    },
    "papermill": {
     "duration": 0.031062,
     "end_time": "2022-07-12T05:07:07.312829",
     "exception": false,
     "start_time": "2022-07-12T05:07:07.281767",
     "status": "completed"
    },
    "tags": []
   },
   "outputs": [
    {
     "data": {
      "text/plain": [
       "Index(['ListingKey', 'ListingNumber', 'ListingCreationDate', 'CreditGrade',\n",
       "       'Term', 'LoanStatus', 'ClosedDate', 'BorrowerAPR', 'BorrowerRate',\n",
       "       'LenderYield', 'EstimatedEffectiveYield', 'EstimatedLoss',\n",
       "       'EstimatedReturn', 'ProsperRating (numeric)', 'ProsperRating (Alpha)',\n",
       "       'ProsperScore', 'ListingCategory (numeric)', 'BorrowerState',\n",
       "       'Occupation', 'EmploymentStatus', 'EmploymentStatusDuration',\n",
       "       'IsBorrowerHomeowner', 'CurrentlyInGroup', 'GroupKey',\n",
       "       'DateCreditPulled', 'CreditScoreRangeLower', 'CreditScoreRangeUpper',\n",
       "       'FirstRecordedCreditLine', 'CurrentCreditLines', 'OpenCreditLines',\n",
       "       'TotalCreditLinespast7years', 'OpenRevolvingAccounts',\n",
       "       'OpenRevolvingMonthlyPayment', 'InquiriesLast6Months', 'TotalInquiries',\n",
       "       'CurrentDelinquencies', 'AmountDelinquent', 'DelinquenciesLast7Years',\n",
       "       'PublicRecordsLast10Years', 'PublicRecordsLast12Months',\n",
       "       'RevolvingCreditBalance', 'BankcardUtilization',\n",
       "       'AvailableBankcardCredit', 'TotalTrades',\n",
       "       'TradesNeverDelinquent (percentage)', 'TradesOpenedLast6Months',\n",
       "       'DebtToIncomeRatio', 'IncomeRange', 'IncomeVerifiable',\n",
       "       'StatedMonthlyIncome', 'LoanKey', 'TotalProsperLoans',\n",
       "       'TotalProsperPaymentsBilled', 'OnTimeProsperPayments',\n",
       "       'ProsperPaymentsLessThanOneMonthLate',\n",
       "       'ProsperPaymentsOneMonthPlusLate', 'ProsperPrincipalBorrowed',\n",
       "       'ProsperPrincipalOutstanding', 'ScorexChangeAtTimeOfListing',\n",
       "       'LoanCurrentDaysDelinquent', 'LoanFirstDefaultedCycleNumber',\n",
       "       'LoanMonthsSinceOrigination', 'LoanNumber', 'LoanOriginalAmount',\n",
       "       'LoanOriginationDate', 'LoanOriginationQuarter', 'MemberKey',\n",
       "       'MonthlyLoanPayment', 'LP_CustomerPayments',\n",
       "       'LP_CustomerPrincipalPayments', 'LP_InterestandFees', 'LP_ServiceFees',\n",
       "       'LP_CollectionFees', 'LP_GrossPrincipalLoss', 'LP_NetPrincipalLoss',\n",
       "       'LP_NonPrincipalRecoverypayments', 'PercentFunded', 'Recommendations',\n",
       "       'InvestmentFromFriendsCount', 'InvestmentFromFriendsAmount',\n",
       "       'Investors'],\n",
       "      dtype='object')"
      ]
     },
     "execution_count": 7,
     "metadata": {},
     "output_type": "execute_result"
    }
   ],
   "source": [
    "df.columns"
   ]
  },
  {
   "cell_type": "code",
   "execution_count": 8,
   "id": "f14f7e7a",
   "metadata": {
    "execution": {
     "iopub.execute_input": "2022-07-12T05:07:07.344327Z",
     "iopub.status.busy": "2022-07-12T05:07:07.343881Z",
     "iopub.status.idle": "2022-07-12T05:07:07.579655Z",
     "shell.execute_reply": "2022-07-12T05:07:07.578778Z"
    },
    "papermill": {
     "duration": 0.254878,
     "end_time": "2022-07-12T05:07:07.582712",
     "exception": false,
     "start_time": "2022-07-12T05:07:07.327834",
     "status": "completed"
    },
    "tags": []
   },
   "outputs": [
    {
     "name": "stdout",
     "output_type": "stream",
     "text": [
      "<class 'pandas.core.frame.DataFrame'>\n",
      "RangeIndex: 113937 entries, 0 to 113936\n",
      "Data columns (total 81 columns):\n",
      " #   Column                               Non-Null Count   Dtype  \n",
      "---  ------                               --------------   -----  \n",
      " 0   ListingKey                           113937 non-null  object \n",
      " 1   ListingNumber                        113937 non-null  int64  \n",
      " 2   ListingCreationDate                  113937 non-null  object \n",
      " 3   CreditGrade                          28953 non-null   object \n",
      " 4   Term                                 113937 non-null  int64  \n",
      " 5   LoanStatus                           113937 non-null  object \n",
      " 6   ClosedDate                           55089 non-null   object \n",
      " 7   BorrowerAPR                          113912 non-null  float64\n",
      " 8   BorrowerRate                         113937 non-null  float64\n",
      " 9   LenderYield                          113937 non-null  float64\n",
      " 10  EstimatedEffectiveYield              84853 non-null   float64\n",
      " 11  EstimatedLoss                        84853 non-null   float64\n",
      " 12  EstimatedReturn                      84853 non-null   float64\n",
      " 13  ProsperRating (numeric)              84853 non-null   float64\n",
      " 14  ProsperRating (Alpha)                84853 non-null   object \n",
      " 15  ProsperScore                         84853 non-null   float64\n",
      " 16  ListingCategory (numeric)            113937 non-null  int64  \n",
      " 17  BorrowerState                        108422 non-null  object \n",
      " 18  Occupation                           110349 non-null  object \n",
      " 19  EmploymentStatus                     111682 non-null  object \n",
      " 20  EmploymentStatusDuration             106312 non-null  float64\n",
      " 21  IsBorrowerHomeowner                  113937 non-null  bool   \n",
      " 22  CurrentlyInGroup                     113937 non-null  bool   \n",
      " 23  GroupKey                             13341 non-null   object \n",
      " 24  DateCreditPulled                     113937 non-null  object \n",
      " 25  CreditScoreRangeLower                113346 non-null  float64\n",
      " 26  CreditScoreRangeUpper                113346 non-null  float64\n",
      " 27  FirstRecordedCreditLine              113240 non-null  object \n",
      " 28  CurrentCreditLines                   106333 non-null  float64\n",
      " 29  OpenCreditLines                      106333 non-null  float64\n",
      " 30  TotalCreditLinespast7years           113240 non-null  float64\n",
      " 31  OpenRevolvingAccounts                113937 non-null  int64  \n",
      " 32  OpenRevolvingMonthlyPayment          113937 non-null  float64\n",
      " 33  InquiriesLast6Months                 113240 non-null  float64\n",
      " 34  TotalInquiries                       112778 non-null  float64\n",
      " 35  CurrentDelinquencies                 113240 non-null  float64\n",
      " 36  AmountDelinquent                     106315 non-null  float64\n",
      " 37  DelinquenciesLast7Years              112947 non-null  float64\n",
      " 38  PublicRecordsLast10Years             113240 non-null  float64\n",
      " 39  PublicRecordsLast12Months            106333 non-null  float64\n",
      " 40  RevolvingCreditBalance               106333 non-null  float64\n",
      " 41  BankcardUtilization                  106333 non-null  float64\n",
      " 42  AvailableBankcardCredit              106393 non-null  float64\n",
      " 43  TotalTrades                          106393 non-null  float64\n",
      " 44  TradesNeverDelinquent (percentage)   106393 non-null  float64\n",
      " 45  TradesOpenedLast6Months              106393 non-null  float64\n",
      " 46  DebtToIncomeRatio                    105383 non-null  float64\n",
      " 47  IncomeRange                          113937 non-null  object \n",
      " 48  IncomeVerifiable                     113937 non-null  bool   \n",
      " 49  StatedMonthlyIncome                  113937 non-null  float64\n",
      " 50  LoanKey                              113937 non-null  object \n",
      " 51  TotalProsperLoans                    22085 non-null   float64\n",
      " 52  TotalProsperPaymentsBilled           22085 non-null   float64\n",
      " 53  OnTimeProsperPayments                22085 non-null   float64\n",
      " 54  ProsperPaymentsLessThanOneMonthLate  22085 non-null   float64\n",
      " 55  ProsperPaymentsOneMonthPlusLate      22085 non-null   float64\n",
      " 56  ProsperPrincipalBorrowed             22085 non-null   float64\n",
      " 57  ProsperPrincipalOutstanding          22085 non-null   float64\n",
      " 58  ScorexChangeAtTimeOfListing          18928 non-null   float64\n",
      " 59  LoanCurrentDaysDelinquent            113937 non-null  int64  \n",
      " 60  LoanFirstDefaultedCycleNumber        16952 non-null   float64\n",
      " 61  LoanMonthsSinceOrigination           113937 non-null  int64  \n",
      " 62  LoanNumber                           113937 non-null  int64  \n",
      " 63  LoanOriginalAmount                   113937 non-null  int64  \n",
      " 64  LoanOriginationDate                  113937 non-null  object \n",
      " 65  LoanOriginationQuarter               113937 non-null  object \n",
      " 66  MemberKey                            113937 non-null  object \n",
      " 67  MonthlyLoanPayment                   113937 non-null  float64\n",
      " 68  LP_CustomerPayments                  113937 non-null  float64\n",
      " 69  LP_CustomerPrincipalPayments         113937 non-null  float64\n",
      " 70  LP_InterestandFees                   113937 non-null  float64\n",
      " 71  LP_ServiceFees                       113937 non-null  float64\n",
      " 72  LP_CollectionFees                    113937 non-null  float64\n",
      " 73  LP_GrossPrincipalLoss                113937 non-null  float64\n",
      " 74  LP_NetPrincipalLoss                  113937 non-null  float64\n",
      " 75  LP_NonPrincipalRecoverypayments      113937 non-null  float64\n",
      " 76  PercentFunded                        113937 non-null  float64\n",
      " 77  Recommendations                      113937 non-null  int64  \n",
      " 78  InvestmentFromFriendsCount           113937 non-null  int64  \n",
      " 79  InvestmentFromFriendsAmount          113937 non-null  float64\n",
      " 80  Investors                            113937 non-null  int64  \n",
      "dtypes: bool(3), float64(50), int64(11), object(17)\n",
      "memory usage: 68.1+ MB\n"
     ]
    }
   ],
   "source": [
    "#We want a summary of the dataframe \n",
    "df.info()"
   ]
  },
  {
   "cell_type": "markdown",
   "id": "79ed7e70",
   "metadata": {
    "papermill": {
     "duration": 0.014587,
     "end_time": "2022-07-12T05:07:07.612351",
     "exception": false,
     "start_time": "2022-07-12T05:07:07.597764",
     "status": "completed"
    },
    "tags": []
   },
   "source": [
    "We can observe that those columns that have symbols are in object form as well as some columns should be of an integer type but are of an object type. Now let us detect which columns have symbols and if there are any other symbols too."
   ]
  },
  {
   "cell_type": "code",
   "execution_count": 9,
   "id": "54f872dc",
   "metadata": {
    "execution": {
     "iopub.execute_input": "2022-07-12T05:07:07.644227Z",
     "iopub.status.busy": "2022-07-12T05:07:07.643205Z",
     "iopub.status.idle": "2022-07-12T05:07:08.144698Z",
     "shell.execute_reply": "2022-07-12T05:07:08.143359Z"
    },
    "papermill": {
     "duration": 0.520212,
     "end_time": "2022-07-12T05:07:08.147343",
     "exception": false,
     "start_time": "2022-07-12T05:07:07.627131",
     "status": "completed"
    },
    "tags": []
   },
   "outputs": [
    {
     "data": {
      "text/html": [
       "<div>\n",
       "<style scoped>\n",
       "    .dataframe tbody tr th:only-of-type {\n",
       "        vertical-align: middle;\n",
       "    }\n",
       "\n",
       "    .dataframe tbody tr th {\n",
       "        vertical-align: top;\n",
       "    }\n",
       "\n",
       "    .dataframe thead th {\n",
       "        text-align: right;\n",
       "    }\n",
       "</style>\n",
       "<table border=\"1\" class=\"dataframe\">\n",
       "  <thead>\n",
       "    <tr style=\"text-align: right;\">\n",
       "      <th></th>\n",
       "      <th>ListingNumber</th>\n",
       "      <th>Term</th>\n",
       "      <th>BorrowerAPR</th>\n",
       "      <th>BorrowerRate</th>\n",
       "      <th>LenderYield</th>\n",
       "      <th>EstimatedEffectiveYield</th>\n",
       "      <th>EstimatedLoss</th>\n",
       "      <th>EstimatedReturn</th>\n",
       "      <th>ProsperRating (numeric)</th>\n",
       "      <th>ProsperScore</th>\n",
       "      <th>...</th>\n",
       "      <th>LP_ServiceFees</th>\n",
       "      <th>LP_CollectionFees</th>\n",
       "      <th>LP_GrossPrincipalLoss</th>\n",
       "      <th>LP_NetPrincipalLoss</th>\n",
       "      <th>LP_NonPrincipalRecoverypayments</th>\n",
       "      <th>PercentFunded</th>\n",
       "      <th>Recommendations</th>\n",
       "      <th>InvestmentFromFriendsCount</th>\n",
       "      <th>InvestmentFromFriendsAmount</th>\n",
       "      <th>Investors</th>\n",
       "    </tr>\n",
       "  </thead>\n",
       "  <tbody>\n",
       "    <tr>\n",
       "      <th>count</th>\n",
       "      <td>1.139370e+05</td>\n",
       "      <td>113937.000000</td>\n",
       "      <td>113912.000000</td>\n",
       "      <td>113937.000000</td>\n",
       "      <td>113937.000000</td>\n",
       "      <td>84853.000000</td>\n",
       "      <td>84853.000000</td>\n",
       "      <td>84853.000000</td>\n",
       "      <td>84853.000000</td>\n",
       "      <td>84853.000000</td>\n",
       "      <td>...</td>\n",
       "      <td>113937.000000</td>\n",
       "      <td>113937.000000</td>\n",
       "      <td>113937.000000</td>\n",
       "      <td>113937.000000</td>\n",
       "      <td>113937.000000</td>\n",
       "      <td>113937.000000</td>\n",
       "      <td>113937.000000</td>\n",
       "      <td>113937.000000</td>\n",
       "      <td>113937.000000</td>\n",
       "      <td>113937.000000</td>\n",
       "    </tr>\n",
       "    <tr>\n",
       "      <th>mean</th>\n",
       "      <td>6.278857e+05</td>\n",
       "      <td>40.830248</td>\n",
       "      <td>0.218828</td>\n",
       "      <td>0.192764</td>\n",
       "      <td>0.182701</td>\n",
       "      <td>0.168661</td>\n",
       "      <td>0.080306</td>\n",
       "      <td>0.096068</td>\n",
       "      <td>4.072243</td>\n",
       "      <td>5.950067</td>\n",
       "      <td>...</td>\n",
       "      <td>-54.725641</td>\n",
       "      <td>-14.242698</td>\n",
       "      <td>700.446342</td>\n",
       "      <td>681.420499</td>\n",
       "      <td>25.142686</td>\n",
       "      <td>0.998584</td>\n",
       "      <td>0.048027</td>\n",
       "      <td>0.023460</td>\n",
       "      <td>16.550751</td>\n",
       "      <td>80.475228</td>\n",
       "    </tr>\n",
       "    <tr>\n",
       "      <th>std</th>\n",
       "      <td>3.280762e+05</td>\n",
       "      <td>10.436212</td>\n",
       "      <td>0.080364</td>\n",
       "      <td>0.074818</td>\n",
       "      <td>0.074516</td>\n",
       "      <td>0.068467</td>\n",
       "      <td>0.046764</td>\n",
       "      <td>0.030403</td>\n",
       "      <td>1.673227</td>\n",
       "      <td>2.376501</td>\n",
       "      <td>...</td>\n",
       "      <td>60.675425</td>\n",
       "      <td>109.232758</td>\n",
       "      <td>2388.513831</td>\n",
       "      <td>2357.167068</td>\n",
       "      <td>275.657937</td>\n",
       "      <td>0.017919</td>\n",
       "      <td>0.332353</td>\n",
       "      <td>0.232412</td>\n",
       "      <td>294.545422</td>\n",
       "      <td>103.239020</td>\n",
       "    </tr>\n",
       "    <tr>\n",
       "      <th>min</th>\n",
       "      <td>4.000000e+00</td>\n",
       "      <td>12.000000</td>\n",
       "      <td>0.006530</td>\n",
       "      <td>0.000000</td>\n",
       "      <td>-0.010000</td>\n",
       "      <td>-0.182700</td>\n",
       "      <td>0.004900</td>\n",
       "      <td>-0.182700</td>\n",
       "      <td>1.000000</td>\n",
       "      <td>1.000000</td>\n",
       "      <td>...</td>\n",
       "      <td>-664.870000</td>\n",
       "      <td>-9274.750000</td>\n",
       "      <td>-94.200000</td>\n",
       "      <td>-954.550000</td>\n",
       "      <td>0.000000</td>\n",
       "      <td>0.700000</td>\n",
       "      <td>0.000000</td>\n",
       "      <td>0.000000</td>\n",
       "      <td>0.000000</td>\n",
       "      <td>1.000000</td>\n",
       "    </tr>\n",
       "    <tr>\n",
       "      <th>25%</th>\n",
       "      <td>4.009190e+05</td>\n",
       "      <td>36.000000</td>\n",
       "      <td>0.156290</td>\n",
       "      <td>0.134000</td>\n",
       "      <td>0.124200</td>\n",
       "      <td>0.115670</td>\n",
       "      <td>0.042400</td>\n",
       "      <td>0.074080</td>\n",
       "      <td>3.000000</td>\n",
       "      <td>4.000000</td>\n",
       "      <td>...</td>\n",
       "      <td>-73.180000</td>\n",
       "      <td>0.000000</td>\n",
       "      <td>0.000000</td>\n",
       "      <td>0.000000</td>\n",
       "      <td>0.000000</td>\n",
       "      <td>1.000000</td>\n",
       "      <td>0.000000</td>\n",
       "      <td>0.000000</td>\n",
       "      <td>0.000000</td>\n",
       "      <td>2.000000</td>\n",
       "    </tr>\n",
       "    <tr>\n",
       "      <th>50%</th>\n",
       "      <td>6.005540e+05</td>\n",
       "      <td>36.000000</td>\n",
       "      <td>0.209760</td>\n",
       "      <td>0.184000</td>\n",
       "      <td>0.173000</td>\n",
       "      <td>0.161500</td>\n",
       "      <td>0.072400</td>\n",
       "      <td>0.091700</td>\n",
       "      <td>4.000000</td>\n",
       "      <td>6.000000</td>\n",
       "      <td>...</td>\n",
       "      <td>-34.440000</td>\n",
       "      <td>0.000000</td>\n",
       "      <td>0.000000</td>\n",
       "      <td>0.000000</td>\n",
       "      <td>0.000000</td>\n",
       "      <td>1.000000</td>\n",
       "      <td>0.000000</td>\n",
       "      <td>0.000000</td>\n",
       "      <td>0.000000</td>\n",
       "      <td>44.000000</td>\n",
       "    </tr>\n",
       "    <tr>\n",
       "      <th>75%</th>\n",
       "      <td>8.926340e+05</td>\n",
       "      <td>36.000000</td>\n",
       "      <td>0.283810</td>\n",
       "      <td>0.250000</td>\n",
       "      <td>0.240000</td>\n",
       "      <td>0.224300</td>\n",
       "      <td>0.112000</td>\n",
       "      <td>0.116600</td>\n",
       "      <td>5.000000</td>\n",
       "      <td>8.000000</td>\n",
       "      <td>...</td>\n",
       "      <td>-13.920000</td>\n",
       "      <td>0.000000</td>\n",
       "      <td>0.000000</td>\n",
       "      <td>0.000000</td>\n",
       "      <td>0.000000</td>\n",
       "      <td>1.000000</td>\n",
       "      <td>0.000000</td>\n",
       "      <td>0.000000</td>\n",
       "      <td>0.000000</td>\n",
       "      <td>115.000000</td>\n",
       "    </tr>\n",
       "    <tr>\n",
       "      <th>max</th>\n",
       "      <td>1.255725e+06</td>\n",
       "      <td>60.000000</td>\n",
       "      <td>0.512290</td>\n",
       "      <td>0.497500</td>\n",
       "      <td>0.492500</td>\n",
       "      <td>0.319900</td>\n",
       "      <td>0.366000</td>\n",
       "      <td>0.283700</td>\n",
       "      <td>7.000000</td>\n",
       "      <td>11.000000</td>\n",
       "      <td>...</td>\n",
       "      <td>32.060000</td>\n",
       "      <td>0.000000</td>\n",
       "      <td>25000.000000</td>\n",
       "      <td>25000.000000</td>\n",
       "      <td>21117.900000</td>\n",
       "      <td>1.012500</td>\n",
       "      <td>39.000000</td>\n",
       "      <td>33.000000</td>\n",
       "      <td>25000.000000</td>\n",
       "      <td>1189.000000</td>\n",
       "    </tr>\n",
       "  </tbody>\n",
       "</table>\n",
       "<p>8 rows × 61 columns</p>\n",
       "</div>"
      ],
      "text/plain": [
       "       ListingNumber           Term    BorrowerAPR   BorrowerRate  \\\n",
       "count   1.139370e+05  113937.000000  113912.000000  113937.000000   \n",
       "mean    6.278857e+05      40.830248       0.218828       0.192764   \n",
       "std     3.280762e+05      10.436212       0.080364       0.074818   \n",
       "min     4.000000e+00      12.000000       0.006530       0.000000   \n",
       "25%     4.009190e+05      36.000000       0.156290       0.134000   \n",
       "50%     6.005540e+05      36.000000       0.209760       0.184000   \n",
       "75%     8.926340e+05      36.000000       0.283810       0.250000   \n",
       "max     1.255725e+06      60.000000       0.512290       0.497500   \n",
       "\n",
       "         LenderYield  EstimatedEffectiveYield  EstimatedLoss  EstimatedReturn  \\\n",
       "count  113937.000000             84853.000000   84853.000000     84853.000000   \n",
       "mean        0.182701                 0.168661       0.080306         0.096068   \n",
       "std         0.074516                 0.068467       0.046764         0.030403   \n",
       "min        -0.010000                -0.182700       0.004900        -0.182700   \n",
       "25%         0.124200                 0.115670       0.042400         0.074080   \n",
       "50%         0.173000                 0.161500       0.072400         0.091700   \n",
       "75%         0.240000                 0.224300       0.112000         0.116600   \n",
       "max         0.492500                 0.319900       0.366000         0.283700   \n",
       "\n",
       "       ProsperRating (numeric)  ProsperScore  ...  LP_ServiceFees  \\\n",
       "count             84853.000000  84853.000000  ...   113937.000000   \n",
       "mean                  4.072243      5.950067  ...      -54.725641   \n",
       "std                   1.673227      2.376501  ...       60.675425   \n",
       "min                   1.000000      1.000000  ...     -664.870000   \n",
       "25%                   3.000000      4.000000  ...      -73.180000   \n",
       "50%                   4.000000      6.000000  ...      -34.440000   \n",
       "75%                   5.000000      8.000000  ...      -13.920000   \n",
       "max                   7.000000     11.000000  ...       32.060000   \n",
       "\n",
       "       LP_CollectionFees  LP_GrossPrincipalLoss  LP_NetPrincipalLoss  \\\n",
       "count      113937.000000          113937.000000        113937.000000   \n",
       "mean          -14.242698             700.446342           681.420499   \n",
       "std           109.232758            2388.513831          2357.167068   \n",
       "min         -9274.750000             -94.200000          -954.550000   \n",
       "25%             0.000000               0.000000             0.000000   \n",
       "50%             0.000000               0.000000             0.000000   \n",
       "75%             0.000000               0.000000             0.000000   \n",
       "max             0.000000           25000.000000         25000.000000   \n",
       "\n",
       "       LP_NonPrincipalRecoverypayments  PercentFunded  Recommendations  \\\n",
       "count                    113937.000000  113937.000000    113937.000000   \n",
       "mean                         25.142686       0.998584         0.048027   \n",
       "std                         275.657937       0.017919         0.332353   \n",
       "min                           0.000000       0.700000         0.000000   \n",
       "25%                           0.000000       1.000000         0.000000   \n",
       "50%                           0.000000       1.000000         0.000000   \n",
       "75%                           0.000000       1.000000         0.000000   \n",
       "max                       21117.900000       1.012500        39.000000   \n",
       "\n",
       "       InvestmentFromFriendsCount  InvestmentFromFriendsAmount      Investors  \n",
       "count               113937.000000                113937.000000  113937.000000  \n",
       "mean                     0.023460                    16.550751      80.475228  \n",
       "std                      0.232412                   294.545422     103.239020  \n",
       "min                      0.000000                     0.000000       1.000000  \n",
       "25%                      0.000000                     0.000000       2.000000  \n",
       "50%                      0.000000                     0.000000      44.000000  \n",
       "75%                      0.000000                     0.000000     115.000000  \n",
       "max                     33.000000                 25000.000000    1189.000000  \n",
       "\n",
       "[8 rows x 61 columns]"
      ]
     },
     "execution_count": 9,
     "metadata": {},
     "output_type": "execute_result"
    }
   ],
   "source": [
    "#telling about certain statistics of each column\n",
    "df.describe()"
   ]
  },
  {
   "cell_type": "markdown",
   "id": "ec015520",
   "metadata": {
    "papermill": {
     "duration": 0.016945,
     "end_time": "2022-07-12T05:07:08.180339",
     "exception": false,
     "start_time": "2022-07-12T05:07:08.163394",
     "status": "completed"
    },
    "tags": []
   },
   "source": [
    "# **What is the structure of your dataset?**\n",
    "\n",
    "There are 113,937 loans in the dataset with 81 features. Most variables are numeric and categorical in nature.\n",
    "\n",
    "The dataset features can be split into two main categories:\n",
    "\n",
    "1) Borrower information\n",
    "\n",
    "2) Loan performance information"
   ]
  },
  {
   "cell_type": "markdown",
   "id": "2db9a35f",
   "metadata": {
    "papermill": {
     "duration": 0.015449,
     "end_time": "2022-07-12T05:07:08.211536",
     "exception": false,
     "start_time": "2022-07-12T05:07:08.196087",
     "status": "completed"
    },
    "tags": []
   },
   "source": [
    "# **What features in the dataset do you think will help support your investigation into your feature(s) of interest**\n",
    "\n",
    "Though there are many features to explore, I suspect the following borrower features will have the largest effect on the performance of the loan:\n",
    "\n",
    "IncomeRange - The income range of the borrower at the time the listing was created.\n",
    "\n",
    "DebToIncomeRatio - The debt to income ratio of the borrower at the time the credit profile was pulled. This value is Null if the debt to income ratio is not available. This value is capped at 10.01 (any debt to income ratio larger than 1000% will be returned as 1001%).\n",
    "\n",
    "CreditGrade - The Credit rating that was assigned at the time the listing went live. Applicable for listings pre-2009 period and will only be populated for those listings.\n",
    "\n",
    "IsBorrowerHomeowner - A Borrower will be classified as a homowner if they have a mortgage on their credit profile or provide documentation confirming they are a homeowner.\n",
    "\n",
    "ProsperRating (Alpha) - The Prosper Rating assigned at the time the listing was created between AA - HR. Applicable for loans originated after July 2009.\n",
    "\n",
    "Investors - The number of investors that funded the loan.\n",
    "\n",
    "EstimatedReturn - The estimated return assigned to the listing at the time it was created. Estimated return is the difference between the Estimated Effective Yield and the Estimated Loss Rate. Applicable for loans originated after July 2009. This is on an annual percentage rate (APR).\n",
    "\n"
   ]
  },
  {
   "cell_type": "code",
   "execution_count": 10,
   "id": "444fb656",
   "metadata": {
    "execution": {
     "iopub.execute_input": "2022-07-12T05:07:08.245066Z",
     "iopub.status.busy": "2022-07-12T05:07:08.244687Z",
     "iopub.status.idle": "2022-07-12T05:07:08.255798Z",
     "shell.execute_reply": "2022-07-12T05:07:08.254875Z"
    },
    "papermill": {
     "duration": 0.030835,
     "end_time": "2022-07-12T05:07:08.258123",
     "exception": false,
     "start_time": "2022-07-12T05:07:08.227288",
     "status": "completed"
    },
    "tags": []
   },
   "outputs": [],
   "source": [
    "# Subset the dataframe by selecting features of interest\n",
    "cols = ['IncomeRange', 'DebtToIncomeRatio', 'CreditGrade', 'IsBorrowerHomeowner', 'ProsperRating (Alpha)', 'Investors','EstimatedReturn']\n",
    "features_interest = df[cols]"
   ]
  },
  {
   "cell_type": "code",
   "execution_count": 11,
   "id": "ee844134",
   "metadata": {
    "execution": {
     "iopub.execute_input": "2022-07-12T05:07:08.292386Z",
     "iopub.status.busy": "2022-07-12T05:07:08.291653Z",
     "iopub.status.idle": "2022-07-12T05:07:08.305331Z",
     "shell.execute_reply": "2022-07-12T05:07:08.303920Z"
    },
    "papermill": {
     "duration": 0.033597,
     "end_time": "2022-07-12T05:07:08.307636",
     "exception": false,
     "start_time": "2022-07-12T05:07:08.274039",
     "status": "completed"
    },
    "tags": []
   },
   "outputs": [
    {
     "data": {
      "text/html": [
       "<div>\n",
       "<style scoped>\n",
       "    .dataframe tbody tr th:only-of-type {\n",
       "        vertical-align: middle;\n",
       "    }\n",
       "\n",
       "    .dataframe tbody tr th {\n",
       "        vertical-align: top;\n",
       "    }\n",
       "\n",
       "    .dataframe thead th {\n",
       "        text-align: right;\n",
       "    }\n",
       "</style>\n",
       "<table border=\"1\" class=\"dataframe\">\n",
       "  <thead>\n",
       "    <tr style=\"text-align: right;\">\n",
       "      <th></th>\n",
       "      <th>IncomeRange</th>\n",
       "      <th>DebtToIncomeRatio</th>\n",
       "      <th>CreditGrade</th>\n",
       "      <th>IsBorrowerHomeowner</th>\n",
       "      <th>ProsperRating (Alpha)</th>\n",
       "      <th>Investors</th>\n",
       "      <th>EstimatedReturn</th>\n",
       "    </tr>\n",
       "  </thead>\n",
       "  <tbody>\n",
       "    <tr>\n",
       "      <th>0</th>\n",
       "      <td>$25,000-49,999</td>\n",
       "      <td>0.17</td>\n",
       "      <td>C</td>\n",
       "      <td>True</td>\n",
       "      <td>NaN</td>\n",
       "      <td>258</td>\n",
       "      <td>NaN</td>\n",
       "    </tr>\n",
       "    <tr>\n",
       "      <th>1</th>\n",
       "      <td>$50,000-74,999</td>\n",
       "      <td>0.18</td>\n",
       "      <td>NaN</td>\n",
       "      <td>False</td>\n",
       "      <td>A</td>\n",
       "      <td>1</td>\n",
       "      <td>0.05470</td>\n",
       "    </tr>\n",
       "    <tr>\n",
       "      <th>2</th>\n",
       "      <td>Not displayed</td>\n",
       "      <td>0.06</td>\n",
       "      <td>HR</td>\n",
       "      <td>False</td>\n",
       "      <td>NaN</td>\n",
       "      <td>41</td>\n",
       "      <td>NaN</td>\n",
       "    </tr>\n",
       "    <tr>\n",
       "      <th>3</th>\n",
       "      <td>$25,000-49,999</td>\n",
       "      <td>0.15</td>\n",
       "      <td>NaN</td>\n",
       "      <td>True</td>\n",
       "      <td>A</td>\n",
       "      <td>158</td>\n",
       "      <td>0.06000</td>\n",
       "    </tr>\n",
       "    <tr>\n",
       "      <th>4</th>\n",
       "      <td>$100,000+</td>\n",
       "      <td>0.26</td>\n",
       "      <td>NaN</td>\n",
       "      <td>True</td>\n",
       "      <td>D</td>\n",
       "      <td>20</td>\n",
       "      <td>0.09066</td>\n",
       "    </tr>\n",
       "  </tbody>\n",
       "</table>\n",
       "</div>"
      ],
      "text/plain": [
       "      IncomeRange  DebtToIncomeRatio CreditGrade  IsBorrowerHomeowner  \\\n",
       "0  $25,000-49,999               0.17           C                 True   \n",
       "1  $50,000-74,999               0.18         NaN                False   \n",
       "2   Not displayed               0.06          HR                False   \n",
       "3  $25,000-49,999               0.15         NaN                 True   \n",
       "4       $100,000+               0.26         NaN                 True   \n",
       "\n",
       "  ProsperRating (Alpha)  Investors  EstimatedReturn  \n",
       "0                   NaN        258              NaN  \n",
       "1                     A          1          0.05470  \n",
       "2                   NaN         41              NaN  \n",
       "3                     A        158          0.06000  \n",
       "4                     D         20          0.09066  "
      ]
     },
     "execution_count": 11,
     "metadata": {},
     "output_type": "execute_result"
    }
   ],
   "source": [
    "features_interest.head()"
   ]
  },
  {
   "cell_type": "code",
   "execution_count": 12,
   "id": "fd3fa9cc",
   "metadata": {
    "execution": {
     "iopub.execute_input": "2022-07-12T05:07:08.341505Z",
     "iopub.status.busy": "2022-07-12T05:07:08.340758Z",
     "iopub.status.idle": "2022-07-12T05:07:08.380573Z",
     "shell.execute_reply": "2022-07-12T05:07:08.379117Z"
    },
    "papermill": {
     "duration": 0.059623,
     "end_time": "2022-07-12T05:07:08.383162",
     "exception": false,
     "start_time": "2022-07-12T05:07:08.323539",
     "status": "completed"
    },
    "tags": []
   },
   "outputs": [
    {
     "data": {
      "text/plain": [
       "IncomeRange                  0\n",
       "DebtToIncomeRatio         8554\n",
       "CreditGrade              84984\n",
       "IsBorrowerHomeowner          0\n",
       "ProsperRating (Alpha)    29084\n",
       "Investors                    0\n",
       "EstimatedReturn          29084\n",
       "dtype: int64"
      ]
     },
     "execution_count": 12,
     "metadata": {},
     "output_type": "execute_result"
    }
   ],
   "source": [
    "features_interest.isnull().sum()"
   ]
  },
  {
   "cell_type": "code",
   "execution_count": 13,
   "id": "d6ca166a",
   "metadata": {
    "execution": {
     "iopub.execute_input": "2022-07-12T05:07:08.417764Z",
     "iopub.status.busy": "2022-07-12T05:07:08.416803Z",
     "iopub.status.idle": "2022-07-12T05:07:10.690793Z",
     "shell.execute_reply": "2022-07-12T05:07:10.689905Z"
    },
    "papermill": {
     "duration": 2.294905,
     "end_time": "2022-07-12T05:07:10.694013",
     "exception": false,
     "start_time": "2022-07-12T05:07:08.399108",
     "status": "completed"
    },
    "tags": []
   },
   "outputs": [
    {
     "data": {
      "text/plain": [
       "<AxesSubplot:>"
      ]
     },
     "execution_count": 13,
     "metadata": {},
     "output_type": "execute_result"
    },
    {
     "data": {
      "image/png": "[encoded data removed]",
      "text/plain": [
       "<Figure size 1440x1440 with 1 Axes>"
      ]
     },
     "metadata": {
      "needs_background": "light"
     },
     "output_type": "display_data"
    }
   ],
   "source": [
    "plt.figure(figsize=(20,20))\n",
    "sns.heatmap(features_interest.isnull(), cbar = False, cmap='viridis')"
   ]
  },
  {
   "cell_type": "markdown",
   "id": "576ad3ba",
   "metadata": {
    "papermill": {
     "duration": 0.017326,
     "end_time": "2022-07-12T05:07:10.729151",
     "exception": false,
     "start_time": "2022-07-12T05:07:10.711825",
     "status": "completed"
    },
    "tags": []
   },
   "source": [
    "# **Univariate Exploration**\n",
    "\n",
    "## **Estimated Return**\n",
    "\n",
    "Let's start by getting a closer look at our feature of intrests beginning with the estimated returns."
   ]
  },
  {
   "cell_type": "code",
   "execution_count": 14,
   "id": "b875025f",
   "metadata": {
    "execution": {
     "iopub.execute_input": "2022-07-12T05:07:10.765699Z",
     "iopub.status.busy": "2022-07-12T05:07:10.765327Z",
     "iopub.status.idle": "2022-07-12T05:07:10.784134Z",
     "shell.execute_reply": "2022-07-12T05:07:10.783284Z"
    },
    "papermill": {
     "duration": 0.040158,
     "end_time": "2022-07-12T05:07:10.786781",
     "exception": false,
     "start_time": "2022-07-12T05:07:10.746623",
     "status": "completed"
    },
    "tags": []
   },
   "outputs": [
    {
     "data": {
      "text/plain": [
       "count    84853.000000\n",
       "mean         0.096068\n",
       "std          0.030403\n",
       "min         -0.182700\n",
       "25%          0.074080\n",
       "50%          0.091700\n",
       "75%          0.116600\n",
       "max          0.283700\n",
       "Name: EstimatedReturn, dtype: float64"
      ]
     },
     "execution_count": 14,
     "metadata": {},
     "output_type": "execute_result"
    }
   ],
   "source": [
    "features_interest.EstimatedReturn.describe()"
   ]
  },
  {
   "cell_type": "markdown",
   "id": "9d4af5df",
   "metadata": {
    "papermill": {
     "duration": 0.017454,
     "end_time": "2022-07-12T05:07:10.821962",
     "exception": false,
     "start_time": "2022-07-12T05:07:10.804508",
     "status": "completed"
    },
    "tags": []
   },
   "source": [
    "It appears we have quite a few empty cells since the total number of rows is over 100,000.\n",
    "\n",
    "The range of estimated returns is -18% to 28%.\n",
    "\n",
    "From the quartile distribution I expect to see a possible right skewed distribution plot.\n",
    "\n",
    "Let's drop the null rows and proceed with a histogram plot."
   ]
  },
  {
   "cell_type": "code",
   "execution_count": 15,
   "id": "e8705d2a",
   "metadata": {
    "execution": {
     "iopub.execute_input": "2022-07-12T05:07:10.859964Z",
     "iopub.status.busy": "2022-07-12T05:07:10.859251Z",
     "iopub.status.idle": "2022-07-12T05:07:10.865750Z",
     "shell.execute_reply": "2022-07-12T05:07:10.864845Z"
    },
    "papermill": {
     "duration": 0.027717,
     "end_time": "2022-07-12T05:07:10.867965",
     "exception": false,
     "start_time": "2022-07-12T05:07:10.840248",
     "status": "completed"
    },
    "tags": []
   },
   "outputs": [],
   "source": [
    "# drop null rows without an estimated return\n",
    "features_interest.EstimatedReturn.dropna(axis = 0, inplace = True)"
   ]
  },
  {
   "cell_type": "code",
   "execution_count": 16,
   "id": "b174bd79",
   "metadata": {
    "execution": {
     "iopub.execute_input": "2022-07-12T05:07:10.905541Z",
     "iopub.status.busy": "2022-07-12T05:07:10.905125Z",
     "iopub.status.idle": "2022-07-12T05:07:11.888497Z",
     "shell.execute_reply": "2022-07-12T05:07:11.887211Z"
    },
    "papermill": {
     "duration": 1.005401,
     "end_time": "2022-07-12T05:07:11.891316",
     "exception": false,
     "start_time": "2022-07-12T05:07:10.885915",
     "status": "completed"
    },
    "tags": []
   },
   "outputs": [
    {
     "data": {
      "image/png": "[encoded data removed]",
      "text/plain": [
       "<Figure size 576x360 with 1 Axes>"
      ]
     },
     "metadata": {
      "needs_background": "light"
     },
     "output_type": "display_data"
    }
   ],
   "source": [
    "# histogram plot\n",
    "plt.figure(figsize = [8,5])\n",
    "sns.distplot(features_interest.EstimatedReturn, kde = True, bins = 200, color='red')\n",
    "# zoom in on histogram\n",
    "plt.xlim(0, .2)\n",
    "plt.xlabel('Estimated Return')\n",
    "plt.ylabel('Count')\n",
    "plt.title('Distribution of Estimated Returns');"
   ]
  },
  {
   "cell_type": "markdown",
   "id": "344d9a57",
   "metadata": {
    "papermill": {
     "duration": 0.019032,
     "end_time": "2022-07-12T05:07:11.929079",
     "exception": false,
     "start_time": "2022-07-12T05:07:11.910047",
     "status": "completed"
    },
    "tags": []
   },
   "source": [
    "It appears most of our loans have an estimated return between 0% and 20%, let's zoom in on this distribution.\n",
    "\n",
    "Our quartile analysis appears to be correct as the distribution is right skewed.\n",
    "\n",
    "It also looks like there are some peaks in some standard values such as 5%, 7.5%, 12.5%, and 15%. Most curiously the largest bin falls right around 12.5%."
   ]
  },
  {
   "cell_type": "markdown",
   "id": "4e24139a",
   "metadata": {
    "papermill": {
     "duration": 0.017989,
     "end_time": "2022-07-12T05:07:11.966052",
     "exception": false,
     "start_time": "2022-07-12T05:07:11.948063",
     "status": "completed"
    },
    "tags": []
   },
   "source": [
    "# **Prosper Credit Ratings for a Person**\n",
    "\n",
    "Now that we have a high level overview of what the returns on the platform look like, let's see if there is a similar or distribution for the borrower's prosper/credit grade."
   ]
  },
  {
   "cell_type": "code",
   "execution_count": 17,
   "id": "41f49657",
   "metadata": {
    "execution": {
     "iopub.execute_input": "2022-07-12T05:07:12.005075Z",
     "iopub.status.busy": "2022-07-12T05:07:12.003995Z",
     "iopub.status.idle": "2022-07-12T05:07:12.049731Z",
     "shell.execute_reply": "2022-07-12T05:07:12.048461Z"
    },
    "papermill": {
     "duration": 0.068138,
     "end_time": "2022-07-12T05:07:12.052556",
     "exception": false,
     "start_time": "2022-07-12T05:07:11.984418",
     "status": "completed"
    },
    "tags": []
   },
   "outputs": [
    {
     "data": {
      "text/plain": [
       "(count     84853\n",
       " unique        7\n",
       " top           C\n",
       " freq      18345\n",
       " Name: ProsperRating (Alpha), dtype: object,\n",
       " C     18345\n",
       " B     15581\n",
       " A     14551\n",
       " D     14274\n",
       " E      9795\n",
       " HR     6935\n",
       " AA     5372\n",
       " Name: ProsperRating (Alpha), dtype: int64)"
      ]
     },
     "execution_count": 17,
     "metadata": {},
     "output_type": "execute_result"
    }
   ],
   "source": [
    "features_interest['ProsperRating (Alpha)'].describe(), features_interest['ProsperRating (Alpha)'].value_counts()"
   ]
  },
  {
   "cell_type": "code",
   "execution_count": 18,
   "id": "0fb22d75",
   "metadata": {
    "execution": {
     "iopub.execute_input": "2022-07-12T05:07:12.091329Z",
     "iopub.status.busy": "2022-07-12T05:07:12.090897Z",
     "iopub.status.idle": "2022-07-12T05:07:12.123377Z",
     "shell.execute_reply": "2022-07-12T05:07:12.122145Z"
    },
    "papermill": {
     "duration": 0.054944,
     "end_time": "2022-07-12T05:07:12.125957",
     "exception": false,
     "start_time": "2022-07-12T05:07:12.071013",
     "status": "completed"
    },
    "tags": []
   },
   "outputs": [
    {
     "data": {
      "text/plain": [
       "(count     28953\n",
       " unique        8\n",
       " top           C\n",
       " freq       5649\n",
       " Name: CreditGrade, dtype: object,\n",
       " C     5649\n",
       " D     5153\n",
       " B     4389\n",
       " AA    3509\n",
       " HR    3508\n",
       " A     3315\n",
       " E     3289\n",
       " NC     141\n",
       " Name: CreditGrade, dtype: int64)"
      ]
     },
     "execution_count": 18,
     "metadata": {},
     "output_type": "execute_result"
    }
   ],
   "source": [
    "features_interest['CreditGrade'].describe(), features_interest['CreditGrade'].value_counts()"
   ]
  },
  {
   "cell_type": "markdown",
   "id": "29a076ed",
   "metadata": {
    "papermill": {
     "duration": 0.020545,
     "end_time": "2022-07-12T05:07:12.164642",
     "exception": false,
     "start_time": "2022-07-12T05:07:12.144097",
     "status": "completed"
    },
    "tags": []
   },
   "source": [
    "From the feature descriptions, it looks like Prosper transitioned to a \"Prosper Rating\" after 2009 to differentiate themselves from the industry standard \"Credit Grade.\n",
    "\n",
    "For exploratory purposes, we'll replace the Credit Grade of No Credit (NC) with High Risk (HR) and combine this column with the Prosper Rating.\n",
    "\n",
    "In the future we may want to look at estimated returns of the pre-2009 \"Credit Grade\" to see how it compares with the post-2009 \"Prosper Rating\" to validate if they truly are equivalent or if Prosper skewed their credit rating in some way."
   ]
  },
  {
   "cell_type": "code",
   "execution_count": 19,
   "id": "02f6676e",
   "metadata": {
    "execution": {
     "iopub.execute_input": "2022-07-12T05:07:12.217362Z",
     "iopub.status.busy": "2022-07-12T05:07:12.214836Z",
     "iopub.status.idle": "2022-07-12T05:07:12.320446Z",
     "shell.execute_reply": "2022-07-12T05:07:12.319272Z"
    },
    "papermill": {
     "duration": 0.135713,
     "end_time": "2022-07-12T05:07:12.322798",
     "exception": false,
     "start_time": "2022-07-12T05:07:12.187085",
     "status": "completed"
    },
    "tags": []
   },
   "outputs": [
    {
     "data": {
      "text/plain": [
       "C     5649\n",
       "D     5153\n",
       "B     4389\n",
       "AA    3509\n",
       "HR    3508\n",
       "A     3315\n",
       "E     3289\n",
       "NC     141\n",
       "Name: ProsperRatingCombined, dtype: int64"
      ]
     },
     "execution_count": 19,
     "metadata": {},
     "output_type": "execute_result"
    }
   ],
   "source": [
    "# replace NC with HR\n",
    "features_interest['CreditGrade'].replace(['NC', 'HR'], 'E', inplace = True)\n",
    "\n",
    "# fill NA with empty strings\n",
    "features_interest['ProsperRating (Alpha)'].fillna(\"\", inplace = True)\n",
    "features_interest['CreditGrade'].fillna(\"\", inplace = True)\n",
    "\n",
    "# combine credit ratings\n",
    "features_interest['ProsperRatingCombined'] = features_interest['ProsperRating (Alpha)'] + df['CreditGrade']\n",
    "\n",
    "# drop rows with no credit ratings\n",
    "features_interest = features_interest.query(' ProsperRatingCombined != \"\"')\n",
    "\n",
    "# check values\n",
    "features_interest['ProsperRatingCombined'].value_counts()"
   ]
  },
  {
   "cell_type": "markdown",
   "id": "cd9dfa8c",
   "metadata": {
    "papermill": {
     "duration": 0.01905,
     "end_time": "2022-07-12T05:07:12.361263",
     "exception": false,
     "start_time": "2022-07-12T05:07:12.342213",
     "status": "completed"
    },
    "tags": []
   },
   "source": [
    "We could have a potential issue with two 'A' grades combining to make an 'AA' grade. Let's double check the number of values before and after to make sure we didn't erroneously create 'AA' grades."
   ]
  },
  {
   "cell_type": "markdown",
   "id": "74d19913",
   "metadata": {
    "papermill": {
     "duration": 0.018657,
     "end_time": "2022-07-12T05:07:12.398602",
     "exception": false,
     "start_time": "2022-07-12T05:07:12.379945",
     "status": "completed"
    },
    "tags": []
   },
   "source": []
  },
  {
   "cell_type": "code",
   "execution_count": 20,
   "id": "21f875e4",
   "metadata": {
    "execution": {
     "iopub.execute_input": "2022-07-12T05:07:12.438945Z",
     "iopub.status.busy": "2022-07-12T05:07:12.438545Z",
     "iopub.status.idle": "2022-07-12T05:07:12.463445Z",
     "shell.execute_reply": "2022-07-12T05:07:12.462373Z"
    },
    "papermill": {
     "duration": 0.048216,
     "end_time": "2022-07-12T05:07:12.466127",
     "exception": false,
     "start_time": "2022-07-12T05:07:12.417911",
     "status": "completed"
    },
    "tags": []
   },
   "outputs": [],
   "source": [
    "# convert string to ordinal category type\n",
    "ordinal_rating = ['AA', 'A', 'B', 'C', 'D', 'E']\n",
    "ordered_var = pd.api.types.CategoricalDtype(ordered = True, categories = ordinal_rating)\n",
    "features_interest['ProsperRatingCombined'] = features_interest['ProsperRatingCombined'].astype(ordered_var)"
   ]
  },
  {
   "cell_type": "code",
   "execution_count": 21,
   "id": "ea3e87f8",
   "metadata": {
    "execution": {
     "iopub.execute_input": "2022-07-12T05:07:12.505478Z",
     "iopub.status.busy": "2022-07-12T05:07:12.505054Z",
     "iopub.status.idle": "2022-07-12T05:07:12.703716Z",
     "shell.execute_reply": "2022-07-12T05:07:12.702380Z"
    },
    "papermill": {
     "duration": 0.221354,
     "end_time": "2022-07-12T05:07:12.706264",
     "exception": false,
     "start_time": "2022-07-12T05:07:12.484910",
     "status": "completed"
    },
    "tags": []
   },
   "outputs": [
    {
     "data": {
      "image/png": "[encoded data removed]",
      "text/plain": [
       "<Figure size 576x360 with 1 Axes>"
      ]
     },
     "metadata": {
      "needs_background": "light"
     },
     "output_type": "display_data"
    }
   ],
   "source": [
    "plt.figure(figsize = [8, 5])\n",
    "sns.countplot(data = features_interest, x = 'ProsperRatingCombined', palette = \"Oranges\")\n",
    "plt.xlabel('Borrower Credit Rating')\n",
    "plt.ylabel('Count')\n",
    "plt.title('Distribution of Borrower Credit Ratings');"
   ]
  },
  {
   "cell_type": "markdown",
   "id": "1ffe64f3",
   "metadata": {
    "papermill": {
     "duration": 0.018914,
     "end_time": "2022-07-12T05:07:12.744226",
     "exception": false,
     "start_time": "2022-07-12T05:07:12.725312",
     "status": "completed"
    },
    "tags": []
   },
   "source": [
    "The distribution of credit ratings is skewed to the right which coincides with our observation of estimated return distribution also being skewed to the right\n",
    "\n",
    "This could mean that for a particular credit rating we have a range of possible estimated returns, let's look into this in our bivariate visualizations.\n",
    "\n",
    "\n",
    "# **Income Range**\n",
    "\n",
    "Let's continue our exploration by looking at a couple of the underwriting features for borrowers to be assigned these Credit Ratings. We'll start with taking a look at Income Ranges."
   ]
  },
  {
   "cell_type": "code",
   "execution_count": 22,
   "id": "3c93a503",
   "metadata": {
    "execution": {
     "iopub.execute_input": "2022-07-12T05:07:12.784426Z",
     "iopub.status.busy": "2022-07-12T05:07:12.784023Z",
     "iopub.status.idle": "2022-07-12T05:07:12.811906Z",
     "shell.execute_reply": "2022-07-12T05:07:12.810477Z"
    },
    "papermill": {
     "duration": 0.050886,
     "end_time": "2022-07-12T05:07:12.814315",
     "exception": false,
     "start_time": "2022-07-12T05:07:12.763429",
     "status": "completed"
    },
    "tags": []
   },
   "outputs": [
    {
     "data": {
      "text/plain": [
       "$25,000-49,999    32192\n",
       "$50,000-74,999    31050\n",
       "$100,000+         17337\n",
       "$75,000-99,999    16916\n",
       "Not displayed      7741\n",
       "$1-24,999          7274\n",
       "Not employed        806\n",
       "$0                  621\n",
       "Name: IncomeRange, dtype: int64"
      ]
     },
     "execution_count": 22,
     "metadata": {},
     "output_type": "execute_result"
    }
   ],
   "source": [
    "features_interest.IncomeRange.value_counts()"
   ]
  },
  {
   "cell_type": "markdown",
   "id": "a0cd0d87",
   "metadata": {
    "papermill": {
     "duration": 0.01874,
     "end_time": "2022-07-12T05:07:12.852277",
     "exception": false,
     "start_time": "2022-07-12T05:07:12.833537",
     "status": "completed"
    },
    "tags": []
   },
   "source": [
    "To simplify our visualization, let's combine the \"Not employed\", \"Not displayed\", and \"$0\" categories together."
   ]
  },
  {
   "cell_type": "code",
   "execution_count": 23,
   "id": "fd545bd3",
   "metadata": {
    "execution": {
     "iopub.execute_input": "2022-07-12T05:07:12.892365Z",
     "iopub.status.busy": "2022-07-12T05:07:12.891939Z",
     "iopub.status.idle": "2022-07-12T05:07:12.922670Z",
     "shell.execute_reply": "2022-07-12T05:07:12.921285Z"
    },
    "papermill": {
     "duration": 0.05386,
     "end_time": "2022-07-12T05:07:12.925332",
     "exception": false,
     "start_time": "2022-07-12T05:07:12.871472",
     "status": "completed"
    },
    "tags": []
   },
   "outputs": [],
   "source": [
    "features_interest['IncomeRange'].replace(['Not employed', 'Not displayed'], '$0', inplace = True)"
   ]
  },
  {
   "cell_type": "code",
   "execution_count": 24,
   "id": "7220f918",
   "metadata": {
    "execution": {
     "iopub.execute_input": "2022-07-12T05:07:12.965662Z",
     "iopub.status.busy": "2022-07-12T05:07:12.965246Z",
     "iopub.status.idle": "2022-07-12T05:07:12.987719Z",
     "shell.execute_reply": "2022-07-12T05:07:12.986446Z"
    },
    "papermill": {
     "duration": 0.045763,
     "end_time": "2022-07-12T05:07:12.990411",
     "exception": false,
     "start_time": "2022-07-12T05:07:12.944648",
     "status": "completed"
    },
    "tags": []
   },
   "outputs": [],
   "source": [
    "# create ordinal categories for income\n",
    "ordinal_rating = ['$100,000+', '$75,000-99,999', '$50,000-74,999', '$25,000-49,999', '$1-24,999', '$0']\n",
    "ordered_var = pd.api.types.CategoricalDtype(ordered = True, categories = ordinal_rating)\n",
    "features_interest['IncomeRange'] = features_interest['IncomeRange'].astype(ordered_var)"
   ]
  },
  {
   "cell_type": "code",
   "execution_count": 25,
   "id": "576f4246",
   "metadata": {
    "execution": {
     "iopub.execute_input": "2022-07-12T05:07:13.031806Z",
     "iopub.status.busy": "2022-07-12T05:07:13.031422Z",
     "iopub.status.idle": "2022-07-12T05:07:13.236412Z",
     "shell.execute_reply": "2022-07-12T05:07:13.235084Z"
    },
    "papermill": {
     "duration": 0.228922,
     "end_time": "2022-07-12T05:07:13.239177",
     "exception": false,
     "start_time": "2022-07-12T05:07:13.010255",
     "status": "completed"
    },
    "tags": []
   },
   "outputs": [
    {
     "data": {
      "image/png": "[encoded data removed]",
      "text/plain": [
       "<Figure size 576x360 with 1 Axes>"
      ]
     },
     "metadata": {
      "needs_background": "light"
     },
     "output_type": "display_data"
    }
   ],
   "source": [
    "# bar chart\n",
    "plt.figure(figsize = [8, 5])\n",
    "sns.countplot(data = features_interest, y = 'IncomeRange', palette = \"Greens\")\n",
    "plt.ylabel('Income Range')\n",
    "plt.xlabel('Count')\n",
    "plt.title('Distribution of Borrower Incomes');"
   ]
  },
  {
   "cell_type": "markdown",
   "id": "cd7ddd50",
   "metadata": {
    "papermill": {
     "duration": 0.025258,
     "end_time": "2022-07-12T05:07:13.286078",
     "exception": false,
     "start_time": "2022-07-12T05:07:13.260820",
     "status": "completed"
    },
    "tags": []
   },
   "source": [
    "Its interesting to see that the number of borrowers for the 25k to 49k is the same as 50k to 74k. The amount of borrowers having income range 75k-100k are the same as the borrowers having income over 100k."
   ]
  },
  {
   "cell_type": "markdown",
   "id": "733002ec",
   "metadata": {
    "papermill": {
     "duration": 0.018916,
     "end_time": "2022-07-12T05:07:13.324233",
     "exception": false,
     "start_time": "2022-07-12T05:07:13.305317",
     "status": "completed"
    },
    "tags": []
   },
   "source": [
    "# **Debt to Income Ratio**\n",
    "\n",
    "Of course your income is only part of the picture, let's see what the borrower's Debt to Income Ratio is like. I imagine a creditor wants to make sure you're not overleveraged in the event you have a loss of income and are unable to repay all of your debts."
   ]
  },
  {
   "cell_type": "code",
   "execution_count": 26,
   "id": "2c115af5",
   "metadata": {
    "execution": {
     "iopub.execute_input": "2022-07-12T05:07:13.364939Z",
     "iopub.status.busy": "2022-07-12T05:07:13.363962Z",
     "iopub.status.idle": "2022-07-12T05:07:13.381909Z",
     "shell.execute_reply": "2022-07-12T05:07:13.380962Z"
    },
    "papermill": {
     "duration": 0.040737,
     "end_time": "2022-07-12T05:07:13.384285",
     "exception": false,
     "start_time": "2022-07-12T05:07:13.343548",
     "status": "completed"
    },
    "tags": []
   },
   "outputs": [
    {
     "data": {
      "text/plain": [
       "count    105383.000000\n",
       "mean          0.275947\n",
       "std           0.551759\n",
       "min           0.000000\n",
       "25%           0.140000\n",
       "50%           0.220000\n",
       "75%           0.320000\n",
       "max          10.010000\n",
       "Name: DebtToIncomeRatio, dtype: float64"
      ]
     },
     "execution_count": 26,
     "metadata": {},
     "output_type": "execute_result"
    }
   ],
   "source": [
    "features_interest.DebtToIncomeRatio.describe()"
   ]
  },
  {
   "cell_type": "code",
   "execution_count": 27,
   "id": "fafe47f8",
   "metadata": {
    "execution": {
     "iopub.execute_input": "2022-07-12T05:07:13.426246Z",
     "iopub.status.busy": "2022-07-12T05:07:13.425548Z",
     "iopub.status.idle": "2022-07-12T05:07:14.437654Z",
     "shell.execute_reply": "2022-07-12T05:07:14.436221Z"
    },
    "papermill": {
     "duration": 1.038257,
     "end_time": "2022-07-12T05:07:14.442108",
     "exception": false,
     "start_time": "2022-07-12T05:07:13.403851",
     "status": "completed"
    },
    "tags": []
   },
   "outputs": [
    {
     "data": {
      "image/png": "[encoded data removed]",
      "text/plain": [
       "<Figure size 576x360 with 1 Axes>"
      ]
     },
     "metadata": {
      "needs_background": "light"
     },
     "output_type": "display_data"
    }
   ],
   "source": [
    "plt.figure(figsize = [8,5])\n",
    "sns.distplot(features_interest.DebtToIncomeRatio, kde = True, bins = 200, color='Purple')\n",
    "plt.xlim(-.1, 1)\n",
    "plt.xlabel('Debt to Income Ratio')\n",
    "plt.ylabel('Count')\n",
    "plt.title('Distribution of Borrower Debt to Income Ratio');"
   ]
  },
  {
   "cell_type": "markdown",
   "id": "bec57a95",
   "metadata": {
    "papermill": {
     "duration": 0.031084,
     "end_time": "2022-07-12T05:07:14.508949",
     "exception": false,
     "start_time": "2022-07-12T05:07:14.477865",
     "status": "completed"
    },
    "tags": []
   },
   "source": [
    "It appears that most borrowers who apply for a loan have a debt to income ratio around 20%. "
   ]
  },
  {
   "cell_type": "markdown",
   "id": "c28d9b87",
   "metadata": {
    "papermill": {
     "duration": 0.028625,
     "end_time": "2022-07-12T05:07:14.560102",
     "exception": false,
     "start_time": "2022-07-12T05:07:14.531477",
     "status": "completed"
    },
    "tags": []
   },
   "source": [
    "# **Bivariate Exploration**\n",
    "\n",
    "## **Quantitative vs. Quantitative**\n",
    "\n",
    "First, let's look at the pairwise correlation between the numeric features we are interested in."
   ]
  },
  {
   "cell_type": "code",
   "execution_count": 28,
   "id": "e62cb6d4",
   "metadata": {
    "execution": {
     "iopub.execute_input": "2022-07-12T05:07:14.604214Z",
     "iopub.status.busy": "2022-07-12T05:07:14.602720Z",
     "iopub.status.idle": "2022-07-12T05:07:14.611833Z",
     "shell.execute_reply": "2022-07-12T05:07:14.610385Z"
    },
    "papermill": {
     "duration": 0.03409,
     "end_time": "2022-07-12T05:07:14.615015",
     "exception": false,
     "start_time": "2022-07-12T05:07:14.580925",
     "status": "completed"
    },
    "tags": []
   },
   "outputs": [
    {
     "data": {
      "text/plain": [
       "Index(['IncomeRange', 'DebtToIncomeRatio', 'CreditGrade',\n",
       "       'IsBorrowerHomeowner', 'ProsperRating (Alpha)', 'Investors',\n",
       "       'EstimatedReturn', 'ProsperRatingCombined'],\n",
       "      dtype='object')"
      ]
     },
     "execution_count": 28,
     "metadata": {},
     "output_type": "execute_result"
    }
   ],
   "source": [
    "features_interest.columns"
   ]
  },
  {
   "cell_type": "code",
   "execution_count": 29,
   "id": "31c642c1",
   "metadata": {
    "execution": {
     "iopub.execute_input": "2022-07-12T05:07:14.662067Z",
     "iopub.status.busy": "2022-07-12T05:07:14.660881Z",
     "iopub.status.idle": "2022-07-12T05:07:14.667757Z",
     "shell.execute_reply": "2022-07-12T05:07:14.666655Z"
    },
    "papermill": {
     "duration": 0.034581,
     "end_time": "2022-07-12T05:07:14.670576",
     "exception": false,
     "start_time": "2022-07-12T05:07:14.635995",
     "status": "completed"
    },
    "tags": []
   },
   "outputs": [],
   "source": [
    "# numeric and categorical variables\n",
    "numeric_vars = ['DebtToIncomeRatio', 'EstimatedReturn', 'Investors']\n",
    "categoric_vars = ['IncomeRange', 'ProsperRatingCombined','IsBorrowerHomeowner','CreditGrade']"
   ]
  },
  {
   "cell_type": "code",
   "execution_count": 30,
   "id": "530f6e16",
   "metadata": {
    "execution": {
     "iopub.execute_input": "2022-07-12T05:07:14.714802Z",
     "iopub.status.busy": "2022-07-12T05:07:14.713940Z",
     "iopub.status.idle": "2022-07-12T05:07:15.138840Z",
     "shell.execute_reply": "2022-07-12T05:07:15.137866Z"
    },
    "papermill": {
     "duration": 0.449838,
     "end_time": "2022-07-12T05:07:15.142457",
     "exception": false,
     "start_time": "2022-07-12T05:07:14.692619",
     "status": "completed"
    },
    "tags": []
   },
   "outputs": [
    {
     "data": {
      "text/plain": [
       "<AxesSubplot:xlabel='DebtToIncomeRatio', ylabel='Investors'>"
      ]
     },
     "execution_count": 30,
     "metadata": {},
     "output_type": "execute_result"
    },
    {
     "data": {
      "image/png": "[encoded data removed]",
      "text/plain": [
       "<Figure size 576x720 with 1 Axes>"
      ]
     },
     "metadata": {
      "needs_background": "light"
     },
     "output_type": "display_data"
    }
   ],
   "source": [
    "plt.figure(figsize=(8,10))\n",
    "sns.scatterplot(data=features_interest, x='DebtToIncomeRatio',y='Investors')"
   ]
  },
  {
   "cell_type": "markdown",
   "id": "6b895211",
   "metadata": {
    "papermill": {
     "duration": 0.021213,
     "end_time": "2022-07-12T05:07:15.189276",
     "exception": false,
     "start_time": "2022-07-12T05:07:15.168063",
     "status": "completed"
    },
    "tags": []
   },
   "source": [
    "The scatter plot explains how investors mostly invest in the range of the people with debt to income ratio of 0-25%. Certain investors can be found investing in the range of 25-70% but the number of investors is really less compared to those investing for the previous range. \n",
    "\n",
    "A decent amount of investors are inesting in the deb to income ratio of 10."
   ]
  },
  {
   "cell_type": "code",
   "execution_count": 31,
   "id": "4e3bbef7",
   "metadata": {
    "execution": {
     "iopub.execute_input": "2022-07-12T05:07:15.234669Z",
     "iopub.status.busy": "2022-07-12T05:07:15.234212Z",
     "iopub.status.idle": "2022-07-12T05:07:15.445079Z",
     "shell.execute_reply": "2022-07-12T05:07:15.443908Z"
    },
    "papermill": {
     "duration": 0.236664,
     "end_time": "2022-07-12T05:07:15.447551",
     "exception": false,
     "start_time": "2022-07-12T05:07:15.210887",
     "status": "completed"
    },
    "tags": []
   },
   "outputs": [
    {
     "data": {
      "image/png": "[encoded data removed]",
      "text/plain": [
       "<Figure size 576x720 with 1 Axes>"
      ]
     },
     "metadata": {
      "needs_background": "light"
     },
     "output_type": "display_data"
    }
   ],
   "source": [
    "plt.figure(figsize=(8,10))\n",
    "sns.boxplot(data=features_interest, x='IsBorrowerHomeowner',y='EstimatedReturn');"
   ]
  },
  {
   "cell_type": "code",
   "execution_count": 32,
   "id": "fb608304",
   "metadata": {
    "execution": {
     "iopub.execute_input": "2022-07-12T05:07:15.493344Z",
     "iopub.status.busy": "2022-07-12T05:07:15.492096Z",
     "iopub.status.idle": "2022-07-12T05:07:15.884995Z",
     "shell.execute_reply": "2022-07-12T05:07:15.883751Z"
    },
    "papermill": {
     "duration": 0.418754,
     "end_time": "2022-07-12T05:07:15.887674",
     "exception": false,
     "start_time": "2022-07-12T05:07:15.468920",
     "status": "completed"
    },
    "tags": []
   },
   "outputs": [
    {
     "data": {
      "image/png": "[encoded data removed]",
      "text/plain": [
       "<Figure size 576x720 with 1 Axes>"
      ]
     },
     "metadata": {
      "needs_background": "light"
     },
     "output_type": "display_data"
    }
   ],
   "source": [
    "plt.figure(figsize=(8,10))\n",
    "sns.scatterplot(x='DebtToIncomeRatio', y='ProsperRatingCombined', data=features_interest);"
   ]
  },
  {
   "cell_type": "markdown",
   "id": "eedbbb22",
   "metadata": {
    "papermill": {
     "duration": 0.02181,
     "end_time": "2022-07-12T05:07:15.931905",
     "exception": false,
     "start_time": "2022-07-12T05:07:15.910095",
     "status": "completed"
    },
    "tags": []
   },
   "source": [
    "The people with prosperity ratings of C and D have the highest Debt to Income Ratio whereas A and B have the lowest in the range of 0-40% mostly"
   ]
  },
  {
   "cell_type": "code",
   "execution_count": 33,
   "id": "5bfa7d7e",
   "metadata": {
    "execution": {
     "iopub.execute_input": "2022-07-12T05:07:15.978888Z",
     "iopub.status.busy": "2022-07-12T05:07:15.978490Z",
     "iopub.status.idle": "2022-07-12T05:07:16.759874Z",
     "shell.execute_reply": "2022-07-12T05:07:16.758634Z"
    },
    "papermill": {
     "duration": 0.808328,
     "end_time": "2022-07-12T05:07:16.762674",
     "exception": false,
     "start_time": "2022-07-12T05:07:15.954346",
     "status": "completed"
    },
    "tags": []
   },
   "outputs": [
    {
     "data": {
      "image/png": "[encoded data removed]",
      "text/plain": [
       "<Figure size 360x360 with 1 Axes>"
      ]
     },
     "metadata": {
      "needs_background": "light"
     },
     "output_type": "display_data"
    }
   ],
   "source": [
    "sns.relplot(\n",
    "    y='Investors', \n",
    "    x='CreditGrade', \n",
    "    data=features_interest, \n",
    "    kind='scatter');"
   ]
  },
  {
   "cell_type": "markdown",
   "id": "bfd0e3ed",
   "metadata": {
    "papermill": {
     "duration": 0.0224,
     "end_time": "2022-07-12T05:07:16.808839",
     "exception": false,
     "start_time": "2022-07-12T05:07:16.786439",
     "status": "completed"
    },
    "tags": []
   },
   "source": [
    "Investors tend to invest for the loans of the people with credit grade of AA or A or B, The grades of C, D and E have far less investors to them. This implies having a better credit score will always have more chances of getting you more investors."
   ]
  },
  {
   "cell_type": "code",
   "execution_count": 34,
   "id": "d586dd10",
   "metadata": {
    "execution": {
     "iopub.execute_input": "2022-07-12T05:07:16.856765Z",
     "iopub.status.busy": "2022-07-12T05:07:16.856031Z",
     "iopub.status.idle": "2022-07-12T05:07:17.137236Z",
     "shell.execute_reply": "2022-07-12T05:07:17.136407Z"
    },
    "papermill": {
     "duration": 0.307831,
     "end_time": "2022-07-12T05:07:17.139515",
     "exception": false,
     "start_time": "2022-07-12T05:07:16.831684",
     "status": "completed"
    },
    "tags": []
   },
   "outputs": [
    {
     "data": {
      "image/png": "[encoded data removed]",
      "text/plain": [
       "<Figure size 1080x360 with 1 Axes>"
      ]
     },
     "metadata": {
      "needs_background": "light"
     },
     "output_type": "display_data"
    }
   ],
   "source": [
    "# boxplots\n",
    "plt.figure(figsize = [15, 5])\n",
    "\n",
    "plt.subplot(1, 2, 1)\n",
    "base_color = sns.color_palette()[0]\n",
    "sns.boxplot(data = features_interest, y = 'IncomeRange', x = 'EstimatedReturn', palette = \"mako\", showfliers = False)\n",
    "plt.xlim(0,.2)\n",
    "plt.ylabel('Borrower Income Range')\n",
    "plt.xlabel('Estimated Returns')\n",
    "\n",
    "\n",
    "plt.suptitle('Estimated Returns by Income Range and Credit Ratings');"
   ]
  },
  {
   "cell_type": "markdown",
   "id": "12dd2367",
   "metadata": {
    "papermill": {
     "duration": 0.023454,
     "end_time": "2022-07-12T05:07:17.186132",
     "exception": false,
     "start_time": "2022-07-12T05:07:17.162678",
     "status": "completed"
    },
    "tags": []
   },
   "source": [
    "From these boxplot, we're able to clearly see that as the borrowers income increases, the median estimated return decreases.\n",
    "\n",
    "We can speculate the reasoning that as income increases, the ability to repay the loan also increases, so to adjust for the higher risk, the interest rate for the loan also increases.\n",
    "\n",
    "Also, creditors typically compete for these high income borrowers which drive the highest credit rating interest rates down.\n",
    "\n",
    "It's interesting to see that the width and whiskers of the boxplots shrink as credit rating increases. This suggests that the expected returns for this feature is much more predictable vs the lower credit ratings."
   ]
  },
  {
   "cell_type": "markdown",
   "id": "fbed7b38",
   "metadata": {
    "papermill": {
     "duration": 0.023636,
     "end_time": "2022-07-12T05:07:17.234005",
     "exception": false,
     "start_time": "2022-07-12T05:07:17.210369",
     "status": "completed"
    },
    "tags": []
   },
   "source": [
    "# **Qualitative vs. Qualitiative**\n",
    "\n",
    "Let's continue to explore this thread by also plotting the credit score along with the income range."
   ]
  },
  {
   "cell_type": "code",
   "execution_count": 35,
   "id": "c17eba4d",
   "metadata": {
    "execution": {
     "iopub.execute_input": "2022-07-12T05:07:17.283668Z",
     "iopub.status.busy": "2022-07-12T05:07:17.282908Z",
     "iopub.status.idle": "2022-07-12T05:07:17.642111Z",
     "shell.execute_reply": "2022-07-12T05:07:17.640831Z"
    },
    "papermill": {
     "duration": 0.387003,
     "end_time": "2022-07-12T05:07:17.644620",
     "exception": false,
     "start_time": "2022-07-12T05:07:17.257617",
     "status": "completed"
    },
    "tags": []
   },
   "outputs": [
    {
     "data": {
      "image/png": "[encoded data removed]",
      "text/plain": [
       "<Figure size 720x576 with 1 Axes>"
      ]
     },
     "metadata": {
      "needs_background": "light"
     },
     "output_type": "display_data"
    }
   ],
   "source": [
    "# clustered bar chart\n",
    "plt.figure(figsize = [10,8])\n",
    "\n",
    "ax = sns.countplot(data = features_interest, y = 'IncomeRange', hue = 'ProsperRatingCombined',\n",
    "                   palette = 'rocket')\n",
    "\n",
    "ax.legend(title = 'Borrower Credit Rating')\n",
    "plt.title('Distribution of Income Ranges and Credit Ratings')\n",
    "plt.ylabel('Borrower Income Range');"
   ]
  },
  {
   "cell_type": "markdown",
   "id": "b235abaa",
   "metadata": {
    "papermill": {
     "duration": 0.024252,
     "end_time": "2022-07-12T05:07:17.692618",
     "exception": false,
     "start_time": "2022-07-12T05:07:17.668366",
     "status": "completed"
    },
    "tags": []
   },
   "source": [
    "From this clustered bar chart, we can see the trend of higher incomes correlate to a higher credit rating qualifying the borrower for the best (lowest) interest rates.\n",
    "\n",
    "Having an income of $75k+ doesn't automatically guarantee the best credit ratings. I'm curious to see in the multivariate analysis what other factors play a big role in determining one's credit rating.\n",
    "\n"
   ]
  },
  {
   "cell_type": "markdown",
   "id": "2760d979",
   "metadata": {
    "papermill": {
     "duration": 0.024003,
     "end_time": "2022-07-12T05:07:17.742045",
     "exception": false,
     "start_time": "2022-07-12T05:07:17.718042",
     "status": "completed"
    },
    "tags": []
   },
   "source": [
    "# **Talk about some of the relationships you observed in this part of the investigation. How did the feature(s) of interest vary with other features in the dataset? Did you observe any interesting relationships between the other features (not the main feature(s) of interest)?**"
   ]
  },
  {
   "cell_type": "markdown",
   "id": "ca0d9136",
   "metadata": {
    "papermill": {
     "duration": 0.023393,
     "end_time": "2022-07-12T05:07:17.788965",
     "exception": false,
     "start_time": "2022-07-12T05:07:17.765572",
     "status": "completed"
    },
    "tags": []
   },
   "source": [
    "From our box plots, we saw a trend of median estimated returns decrease as the borrowers income range increased. This makes intuitive sense as borrowers with a higher income can demand the most competetive rates from creditors. The overlap in our boxplot suggests that borrowers in any income range (except 0) can produce the same estimated return for an investor. The trend between lower estimated returns and higher credit ratings was much more apparent with narrowing quartiles and lower medians."
   ]
  },
  {
   "cell_type": "markdown",
   "id": "be19ee59",
   "metadata": {
    "papermill": {
     "duration": 0.02385,
     "end_time": "2022-07-12T05:07:17.836482",
     "exception": false,
     "start_time": "2022-07-12T05:07:17.812632",
     "status": "completed"
    },
    "tags": []
   },
   "source": [
    "From our clustered bar chart, we peeled back another layer to look at credit ratings and income ranges. This revealed that the previous trend of high income equating to better credit ratings, however there are some interesting cases where a high number of borrowers with no income qualified for the highest credit ratings. Also, we saw that borrowers with incomes of greater than 75k can still be considered \"High Risk\" borrowers."
   ]
  }
 ],
 "metadata": {
  "kernelspec": {
   "display_name": "Python 3",
   "language": "python",
   "name": "python3"
  },
  "language_info": {
   "codemirror_mode": {
    "name": "ipython",
    "version": 3
   },
   "file_extension": ".py",
   "mimetype": "text/x-python",
   "name": "python",
   "nbconvert_exporter": "python",
   "pygments_lexer": "ipython3",
   "version": "3.7.12"
  },
  "papermill": {
   "default_parameters": {},
   "duration": 26.801568,
   "end_time": "2022-07-12T05:07:18.683678",
   "environment_variables": {},
   "exception": null,
   "input_path": "__notebook__.ipynb",
   "output_path": "__notebook__.ipynb",
   "parameters": {},
   "start_time": "2022-07-12T05:06:51.882110",
   "version": "2.3.4"
  }
 },
 "nbformat": 4,
 "nbformat_minor": 5
}
